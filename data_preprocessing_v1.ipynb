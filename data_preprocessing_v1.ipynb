{
  "nbformat": 4,
  "nbformat_minor": 0,
  "metadata": {
    "kernelspec": {
      "display_name": "Python 3",
      "language": "python",
      "name": "python3"
    },
    "language_info": {
      "codemirror_mode": {
        "name": "ipython",
        "version": 3
      },
      "file_extension": ".py",
      "mimetype": "text/x-python",
      "name": "python",
      "nbconvert_exporter": "python",
      "pygments_lexer": "ipython3",
      "version": "3.6.6"
    },
    "colab": {
      "name": "data_preprocessing_v1",
      "provenance": [],
      "collapsed_sections": [],
      "machine_shape": "hm"
    }
  },
  "cells": [
    {
      "cell_type": "markdown",
      "metadata": {
        "id": "7Z3rfe5_eo-A"
      },
      "source": [
        "### 提醒\n",
        "- 資料集只有 train.csv 沒有用 test.csv\n",
        "- 切出 trian valid test 3個set\n",
        "- 主要function 是 genrate_data_set() \n",
        "\n",
        "### genrate_data_set(trainDataPath = \"/content/train.csv\", fillna=\"NA\", dropRareTH=0.005, cutSize=[0.2,0.1],addFT= True )\n",
        "\n",
        "#### args\n",
        "- trainDataPath: str, path to train.csv\n",
        "- fillna: str, the mode to fill NaN \"NA\",\"mode\",\"mice\"\n",
        "- dropRareTH: float, the threshold to replacee low frequency categorical to other    <br>(Only apply on [\"mchno\"\"scity\",\"mcc\"])\n",
        "- cutSize: array, a array of val size and test size.\n",
        "<br> e.g [0.1,0.2] means train:0.7 val:0.1 test:0.2\n",
        "<br> Notice: train and val are a balance data , while test is a inbalance data.\n",
        "-addFT: bool, add Feature or not\n",
        "\n",
        "#### return\n",
        "&nbsp; &nbsp; x_train, x_val, x_test, y_train, y_val, y_test "
      ]
    },
    {
      "cell_type": "markdown",
      "metadata": {
        "id": "_9oGqna-66UO"
      },
      "source": [
        "# 載入資料"
      ]
    },
    {
      "cell_type": "code",
      "metadata": {
        "id": "dsFsQHvClmsc"
      },
      "source": [
        "# # 如果有使用 coloab 再執行此 cell\n",
        "# from google.colab import drive\n",
        "# drive.mount('/gdrive'"
      ],
      "execution_count": null,
      "outputs": []
    },
    {
      "cell_type": "code",
      "metadata": {
        "id": "o0jAIuhP64nQ",
        "colab": {
          "base_uri": "https://localhost:8080/",
          "height": 245
        },
        "outputId": "6050a215-0dfd-4dc2-f18e-bff6b3052db8"
      },
      "source": [
        "f1id = '1SvJ_IiHr-ndJDG_sBf6NCn0lMKUxPIlf'\n",
        "f2id = '1lZPv46zul32Xbr1qHES66YRzMa-A7MzB'\n",
        "\n",
        "\n",
        "!pip3 install gdown\n",
        "import gdown\n",
        "url = 'https://drive.google.com/uc?id=%s'%(f1id)\n",
        "output = 'train.csv'\n",
        "gdown.download(url, output, quiet=False)\n"
      ],
      "execution_count": null,
      "outputs": [
        {
          "output_type": "stream",
          "text": [
            "Requirement already satisfied: gdown in /usr/local/lib/python3.7/dist-packages (3.6.4)\n",
            "Requirement already satisfied: six in /usr/local/lib/python3.7/dist-packages (from gdown) (1.15.0)\n",
            "Requirement already satisfied: tqdm in /usr/local/lib/python3.7/dist-packages (from gdown) (4.41.1)\n",
            "Requirement already satisfied: requests in /usr/local/lib/python3.7/dist-packages (from gdown) (2.23.0)\n",
            "Requirement already satisfied: idna<3,>=2.5 in /usr/local/lib/python3.7/dist-packages (from requests->gdown) (2.10)\n",
            "Requirement already satisfied: chardet<4,>=3.0.2 in /usr/local/lib/python3.7/dist-packages (from requests->gdown) (3.0.4)\n",
            "Requirement already satisfied: certifi>=2017.4.17 in /usr/local/lib/python3.7/dist-packages (from requests->gdown) (2020.12.5)\n",
            "Requirement already satisfied: urllib3!=1.25.0,!=1.25.1,<1.26,>=1.21.1 in /usr/local/lib/python3.7/dist-packages (from requests->gdown) (1.24.3)\n"
          ],
          "name": "stdout"
        },
        {
          "output_type": "stream",
          "text": [
            "Downloading...\n",
            "From: https://drive.google.com/uc?id=1SvJ_IiHr-ndJDG_sBf6NCn0lMKUxPIlf\n",
            "To: /content/train.csv\n",
            "132MB [00:00, 208MB/s]\n"
          ],
          "name": "stderr"
        },
        {
          "output_type": "execute_result",
          "data": {
            "application/vnd.google.colaboratory.intrinsic+json": {
              "type": "string"
            },
            "text/plain": [
              "'train.csv'"
            ]
          },
          "metadata": {
            "tags": []
          },
          "execution_count": 237
        }
      ]
    },
    {
      "cell_type": "code",
      "metadata": {
        "id": "dR6pWFSV4fOL",
        "colab": {
          "base_uri": "https://localhost:8080/",
          "height": 562
        },
        "outputId": "1b151510-6511-4326-92e8-87bb105669b5"
      },
      "source": [
        "! mkdir data model submit\n",
        "!pip install miceforest"
      ],
      "execution_count": null,
      "outputs": [
        {
          "output_type": "stream",
          "text": [
            "mkdir: cannot create directory ‘data’: File exists\n",
            "mkdir: cannot create directory ‘model’: File exists\n",
            "mkdir: cannot create directory ‘submit’: File exists\n",
            "Requirement already satisfied: miceforest in /usr/local/lib/python3.7/dist-packages (2.0.4)\n",
            "Requirement already satisfied: pandas in /usr/local/lib/python3.7/dist-packages (from miceforest) (1.1.5)\n",
            "Requirement already satisfied: numpy in /usr/local/lib/python3.7/dist-packages (from miceforest) (1.19.5)\n",
            "Requirement already satisfied: sklearn in /usr/local/lib/python3.7/dist-packages (from miceforest) (0.0)\n",
            "Collecting matplotlib>=3.3.0\n",
            "  Using cached https://files.pythonhosted.org/packages/24/33/5568d443ba438d95d4db635dd69958056f087e57e1026bee56f959d53f9d/matplotlib-3.4.2-cp37-cp37m-manylinux1_x86_64.whl\n",
            "Requirement already satisfied: seaborn>=0.11.0 in /usr/local/lib/python3.7/dist-packages (from miceforest) (0.11.1)\n",
            "Requirement already satisfied: pytz>=2017.2 in /usr/local/lib/python3.7/dist-packages (from pandas->miceforest) (2018.9)\n",
            "Requirement already satisfied: python-dateutil>=2.7.3 in /usr/local/lib/python3.7/dist-packages (from pandas->miceforest) (2.8.1)\n",
            "Requirement already satisfied: scikit-learn in /usr/local/lib/python3.7/dist-packages (from sklearn->miceforest) (0.22.2.post1)\n",
            "Requirement already satisfied: pillow>=6.2.0 in /usr/local/lib/python3.7/dist-packages (from matplotlib>=3.3.0->miceforest) (7.1.2)\n",
            "Requirement already satisfied: cycler>=0.10 in /usr/local/lib/python3.7/dist-packages (from matplotlib>=3.3.0->miceforest) (0.10.0)\n",
            "Requirement already satisfied: kiwisolver>=1.0.1 in /usr/local/lib/python3.7/dist-packages (from matplotlib>=3.3.0->miceforest) (1.3.1)\n",
            "Requirement already satisfied: pyparsing>=2.2.1 in /usr/local/lib/python3.7/dist-packages (from matplotlib>=3.3.0->miceforest) (2.4.7)\n",
            "Requirement already satisfied: scipy>=1.0 in /usr/local/lib/python3.7/dist-packages (from seaborn>=0.11.0->miceforest) (1.4.1)\n",
            "Requirement already satisfied: six>=1.5 in /usr/local/lib/python3.7/dist-packages (from python-dateutil>=2.7.3->pandas->miceforest) (1.15.0)\n",
            "Requirement already satisfied: joblib>=0.11 in /usr/local/lib/python3.7/dist-packages (from scikit-learn->sklearn->miceforest) (1.0.1)\n",
            "\u001b[31mERROR: albumentations 0.1.12 has requirement imgaug<0.2.7,>=0.2.5, but you'll have imgaug 0.2.9 which is incompatible.\u001b[0m\n",
            "Installing collected packages: matplotlib\n",
            "  Found existing installation: matplotlib 3.1.3\n",
            "    Uninstalling matplotlib-3.1.3:\n",
            "      Successfully uninstalled matplotlib-3.1.3\n",
            "Successfully installed matplotlib-3.4.2\n"
          ],
          "name": "stdout"
        },
        {
          "output_type": "display_data",
          "data": {
            "application/vnd.colab-display-data+json": {
              "pip_warning": {
                "packages": [
                  "matplotlib",
                  "mpl_toolkits"
                ]
              }
            }
          },
          "metadata": {
            "tags": []
          }
        }
      ]
    },
    {
      "cell_type": "code",
      "metadata": {
        "id": "LKL89Hj-4fOG"
      },
      "source": [
        "import pandas as pd\n",
        "import numpy as np"
      ],
      "execution_count": null,
      "outputs": []
    },
    {
      "cell_type": "markdown",
      "metadata": {
        "id": "DH7sJTDR4fOM"
      },
      "source": [
        "# Load Data and Overview"
      ]
    },
    {
      "cell_type": "code",
      "metadata": {
        "id": "oQqBvnKf4fON"
      },
      "source": [
        "#產生 dataSet\n",
        "def loadData(path):\n",
        "  x_all = pd.read_csv(path).set_index('txkey')\n",
        "  print(x_all.shape)\n",
        "  x_all.sort_values(by=['locdt'],inplace=True)\n",
        "  y_all = x_all['fraud_ind']\n",
        "  del x_all['fraud_ind']\n",
        "  return x_all, y_all"
      ],
      "execution_count": null,
      "outputs": []
    },
    {
      "cell_type": "code",
      "metadata": {
        "id": "0JGQbRTXwRbO"
      },
      "source": [
        "# x_all, y_al = loadData(\"/content/train.csv\")\n",
        "# print(addFeature(x_all,False))"
      ],
      "execution_count": null,
      "outputs": []
    },
    {
      "cell_type": "code",
      "metadata": {
        "id": "BEjC1OqQumIj"
      },
      "source": [
        "def addFeature(df,addFT):\n",
        "  if addFT:\n",
        "    df_time = df[\"loctm\"].copy().apply(str).apply(lambda x: x.zfill(8))\n",
        "    df_time = df_time.str.split(\"\",expand=True)\n",
        "    df_abs_time =  df[\"locdt\"].astype(\"int\")*86400 + (df_time[1].astype(\"int\")*10 +df_time[2].astype(\"int\"))*3600 + (df_time[3].astype(\"int\")*10 +df_time[4].astype(\"int\"))*60 +(df_time[5].astype(\"int\")*10 +df_time[6].astype(\"int\"))\n",
        "    df_hours = df_time[1].astype(\"int\")*10 +df_time[2].astype(\"int\")\n",
        "    df_minutes = df_time[3].astype(\"int\")*10 +df_time[4].astype(\"int\")\n",
        "    df_seconds = df_time[5].astype(\"int\")*10 +df_time[6].astype(\"int\")\n",
        "    df = df.assign(abs_time=df_abs_time)\n",
        "    df = df.assign(hours=df_hours)\n",
        "    df = df.assign(hours2=df_hours)\n",
        "    df = df.assign(minutes=df_minutes)\n",
        "    df = df.assign(seconds=df_seconds)\n",
        "    return df\n",
        "  else:\n",
        "    return df"
      ],
      "execution_count": null,
      "outputs": []
    },
    {
      "cell_type": "code",
      "metadata": {
        "id": "KbiekzhnogBy"
      },
      "source": [
        "def delFeature(df,delFT):\n",
        "  if delFT:\n",
        "    for i in df.keys():\n",
        "      if i not in ['acqic', 'loctm', 'scity', 'ecfg', 'etymd', 'hcefg', 'stocn', 'stscd']:\n",
        "        del df[i]\n",
        "  return df"
      ],
      "execution_count": null,
      "outputs": []
    },
    {
      "cell_type": "code",
      "metadata": {
        "id": "r06BPlmv4fOO"
      },
      "source": [
        "# 欄位類別判定\n",
        "def analysis(df,dropRareTH,addFT,delFT):\n",
        "  col_names_cont = [] # 數值型資料\n",
        "  col_names_disc = [] # 類別型資料\n",
        "  col_has_na = [] # 待補NA資料\n",
        "\n",
        "  # Replace low frequency categorical to other\n",
        "  if delFT==False:\n",
        "    df[[\"mchno\",\"scity\",\"mcc\"]] = df[[\"mchno\",\"scity\",\"mcc\"]].apply(lambda x: x.mask(x.map(x.value_counts(normalize=True))<dropRareTH, 99999))\n",
        "\n",
        "  for c in df.keys():\n",
        "      uni = df[c].unique()\n",
        "      n_na = pd.isna(df[c]).sum() # NA 數量\n",
        "      print(len(uni))\n",
        "      if n_na > 0:\n",
        "          col_has_na.append(c)       \n",
        "      if len(uni) < 200 :\n",
        "          print(f\"{c}: uni={uni}\")\n",
        "          col_names_disc.append(c)\n",
        "      else: \n",
        "          info = [ df[c].max(), df[c].min(), df[c].mean(), df[c].std()]\n",
        "          info = [ round(x,2) for x in info ]\n",
        "          offset = 1 if n_na else 0\n",
        "          diversity = (len(uni)-offset)/(len(df)-n_na)\n",
        "          print(f\"{c}: dtype={df[c].dtype}, n_na={n_na}\")\n",
        "          print(\"       max={}, min={}, mean={}, std={}, diversity={:.2f}%\".format(*info, diversity*100 ) )\n",
        "          if diversity == 1.0:\n",
        "              print(f\"       Delete col [{c}] due to diversity is 100% \")\n",
        "          else:\n",
        "              col_names_cont.append(c)\n",
        "      # locdt is numerical\n",
        "  # if delFT == False:\n",
        "  #   col_names_disc.remove('locdt')\n",
        "  #   col_names_cont.append('locdt')\n",
        "  if addFT and delFT == False:\n",
        "    col_names_disc.remove('hours')\n",
        "    col_names_cont.append('hours')\n",
        "    col_names_disc.remove('minutes')\n",
        "    col_names_cont.append('minutes')\n",
        "    col_names_disc.remove('seconds')\n",
        "    col_names_cont.append('seconds')\n",
        "\n",
        "  return col_names_cont, col_names_disc, col_has_na"
      ],
      "execution_count": null,
      "outputs": []
    },
    {
      "cell_type": "code",
      "metadata": {
        "id": "cJCnoU-dc_Vx"
      },
      "source": [
        "#spilt data set\n",
        "from sklearn.model_selection import train_test_split\n",
        "def spiltDataSet(x_data,y_data,size):\n",
        "  x_1, x_2, y_1, y_2,= train_test_split(x_data, y_data, test_size=size, random_state=111, shuffle=False)\n",
        "  return x_1, x_2, y_1, y_2,"
      ],
      "execution_count": null,
      "outputs": []
    },
    {
      "cell_type": "markdown",
      "metadata": {
        "id": "NDaBcKbY4fOP"
      },
      "source": [
        "\n",
        "- 看起來數值型資料都沒有缺失值(n_na==0)"
      ]
    },
    {
      "cell_type": "code",
      "metadata": {
        "id": "qXyJmng44fOP"
      },
      "source": [
        "# 處理缺失值\n",
        "import miceforest as mf\n",
        "\n",
        "def fillMissingValue(x_train, x_test, fillna,col_names_disc):\n",
        "  if fillna==\"NA\":\n",
        "    x_train = x_train.fillna(\"NA\")\n",
        "    x_test = x_test.fillna(\"NA\")\n",
        "  elif fillna==\"mode\":\n",
        "    x_train['flbmk'].fillna(x_train['flbmk'].mode()[0], inplace=True)\n",
        "    x_train['flg_3dsmk'].fillna(x_train['flg_3dsmk'].mode()[0], inplace=True)\n",
        "    x_test['flbmk'].fillna(x_test['flbmk'].mode()[0], inplace=True)\n",
        "    x_test['flg_3dsmk'].fillna(x_test['flg_3dsmk'].mode()[0], inplace=True)\n",
        "  elif fillna==\"mice\":\n",
        "    # Create kernels.\n",
        "    x_train[col_names_disc]= x_train[col_names_disc].astype(\"category\")\n",
        "    x_test[col_names_disc]=  x_test[col_names_disc].astype(\"category\")\n",
        "    kds = mf.KernelDataSet(\n",
        "      x_train,\n",
        "      save_all_iterations=True,\n",
        "      random_state=1991\n",
        "    )\n",
        "    # Run the MICE algorithm for 3 iterations on each of the datasets\n",
        "    kds.mice(3)\n",
        "    x_train = kds.complete_data()\n",
        "    x_test = kds.impute_new_data(new_data=x_test).complete_data()\n",
        "  return x_train, x_test"
      ],
      "execution_count": null,
      "outputs": []
    },
    {
      "cell_type": "markdown",
      "metadata": {
        "id": "ArrSdbXm4fOP"
      },
      "source": [
        "# Data Preprocessing"
      ]
    },
    {
      "cell_type": "code",
      "metadata": {
        "id": "n1-sPpQw4fOQ"
      },
      "source": [
        "from sklearn.preprocessing import StandardScaler\n",
        "from sklearn.preprocessing import LabelEncoder\n",
        "from sklearn.preprocessing import KBinsDiscretizer\n",
        "from sklearn.preprocessing import OneHotEncoder\n",
        "def standerlizeAndOneHotEncode(x_train,x_test,col_names_cont,col_names_disc,kmeans):\n",
        "\n",
        "\n",
        "  if kmeans == \"all\":\n",
        "      x_train_disc = x_train.copy()\n",
        "      x_test_disc = x_test.copy()\n",
        "      col_names_disc = col_names_disc+col_names_cont\n",
        "      les = {}\n",
        "      for c in col_names_disc:\n",
        "        le = LabelEncoder()\n",
        "        le.fit(pd.concat((x_train_disc.loc[:,c],x_test_disc.loc[:,c]),0))\n",
        "        x_train_disc.loc[:,c] = le.transform(x_train_disc.loc[:,c])\n",
        "        x_test_disc.loc[:,c] = le.transform(x_test_disc.loc[:,c])\n",
        "        les.update({c:le})\n",
        "\n",
        "      ke = KBinsDiscretizer(n_bins=10, encode='onehot-dense', strategy='kmeans')\n",
        "      ke.fit(pd.concat((x_train_disc,x_test_disc),0))\n",
        "      x_train_disc = ke.transform(x_train_disc)\n",
        "      x_test_disc = ke.transform(x_test_disc)\n",
        "      new_col_names_disc = []\n",
        "      for c in col_names_disc: \n",
        "          le = les[c]\n",
        "          new_col_names_disc +=  [ c+'_'+str(cl) for cl in range(min(len(le.classes_),10)) ]\n",
        "      x_train = pd.DataFrame(data=x_train_disc, index=x_train.index, columns=new_col_names_disc)\n",
        "      x_test = pd.DataFrame(data=x_test_disc, index=x_test.index, columns=new_col_names_disc)\n",
        "  elif kmeans == \"disc\":\n",
        "      x_train_cont = x_train[col_names_cont].copy()\n",
        "      x_test_cont = x_test[col_names_cont].copy()\n",
        "      scaler = StandardScaler()\n",
        "      x_train_cont_raw = scaler.fit_transform(x_train_cont)\n",
        "      x_train_cont = pd.DataFrame(data=x_train_cont_raw, index=x_train.index, columns=col_names_cont)\n",
        "      x_test_cont_raw = scaler.transform(x_test_cont)\n",
        "      x_test_cont = pd.DataFrame(data=x_test_cont_raw, index=x_test.index, columns=col_names_cont)\n",
        "\n",
        "      x_train_disc = x_train[col_names_disc].copy()\n",
        "      x_test_disc = x_test[col_names_disc].copy()\n",
        "\n",
        "      les = {}\n",
        "      for c in col_names_disc:\n",
        "        le = LabelEncoder()\n",
        "        le.fit(pd.concat((x_train_disc.loc[:,c],x_test_disc.loc[:,c]),0))\n",
        "        x_train_disc.loc[:,c] = le.transform(x_train_disc.loc[:,c])\n",
        "        x_test_disc.loc[:,c] = le.transform(x_test_disc.loc[:,c])\n",
        "        les.update({c:le})\n",
        "\n",
        "      ke = KBinsDiscretizer(n_bins=10, encode='onehot-dense', strategy='kmeans')\n",
        "      ke.fit(pd.concat((x_train_disc,x_test_disc),0))\n",
        "      x_train_disc = ke.transform(x_train_disc)\n",
        "      x_test_disc = ke.transform(x_test_disc)\n",
        "      new_col_names_disc = []\n",
        "      for c in col_names_disc: \n",
        "          le = les[c]\n",
        "          new_col_names_disc +=  [ c+'_'+str(cl) for cl in range(min(len(le.classes_),10)) ]\n",
        "      x_train_disc = pd.DataFrame(data=x_train_disc, index=x_train.index, columns=new_col_names_disc)\n",
        "      x_test_disc = pd.DataFrame(data=x_test_disc, index=x_test.index, columns=new_col_names_disc)\n",
        "      x_train = pd.concat((x_train_cont, x_train_disc), 1)\n",
        "      x_test = pd.concat((x_test_cont, x_test_disc), 1)\n",
        "\n",
        "  elif kmeans == \"none\":\n",
        "      x_train_cont = x_train[col_names_cont].copy()\n",
        "      x_test_cont = x_test[col_names_cont].copy()\n",
        "      scaler = StandardScaler()\n",
        "      x_train_cont_raw = scaler.fit_transform(x_train_cont)\n",
        "      x_train_cont = pd.DataFrame(data=x_train_cont_raw, index=x_train.index, columns=col_names_cont)\n",
        "      x_test_cont_raw = scaler.transform(x_test_cont)\n",
        "      x_test_cont = pd.DataFrame(data=x_test_cont_raw, index=x_test.index, columns=col_names_cont)\n",
        "\n",
        "      x_train_disc = x_train[col_names_disc].copy()\n",
        "      x_test_disc = x_test[col_names_disc].copy()\n",
        "\n",
        "      les = {}\n",
        "      for c in col_names_disc:\n",
        "          le = LabelEncoder()\n",
        "          le.fit(pd.concat((x_train_disc.loc[:,c],x_test_disc.loc[:,c]),0))\n",
        "          \n",
        "          x_train_disc.loc[:,c] = le.transform(x_train_disc.loc[:,c])\n",
        "          x_test_disc.loc[:,c] = le.transform(x_test_disc.loc[:,c])\n",
        "          les.update({c:le})\n",
        "\n",
        "      ohe = OneHotEncoder(sparse=False)\n",
        "      ohe.fit(pd.concat((x_train_disc,x_test_disc),0))\n",
        "      x_train_disc = ohe.transform(x_train_disc)\n",
        "      x_test_disc = ohe.transform(x_test_disc)\n",
        "\n",
        "      new_col_names_disc = []\n",
        "      for c in col_names_disc: \n",
        "          le = les[c]\n",
        "          new_col_names_disc += [ c+'_'+str(cl) for cl in le.classes_ ]\n",
        "          \n",
        "      print(len(new_col_names_disc) , x_train_disc.shape[1])\n",
        "      x_train_disc = pd.DataFrame(data=x_train_disc, index=x_train.index, columns=new_col_names_disc)\n",
        "      x_test_disc = pd.DataFrame(data=x_test_disc, index=x_test.index, columns=new_col_names_disc)\n",
        "      x_train = pd.concat((x_train_cont, x_train_disc), 1)\n",
        "      x_test = pd.concat((x_test_cont, x_test_disc), 1)\n",
        "\n",
        "  return x_train, x_test"
      ],
      "execution_count": null,
      "outputs": []
    },
    {
      "cell_type": "code",
      "metadata": {
        "id": "59JIqkmsgmJI"
      },
      "source": [
        "def downSampleing(df_x,df_y):\n",
        "  df_y_index_1 = df_y[df_y.fraud_ind==1].index\n",
        "  df_y_index_0 = df_y[df_y.fraud_ind==0]\n",
        "  df_y_index_0 = df_y_index_0.sample(len(df_y_index_1), random_state=111).index\n",
        "  df_y_sample_index = df_y_index_0.to_list() + df_y_index_1.to_list()\n",
        "  df_x_sample = df_x.loc[df_y_sample_index]\n",
        "  df_y_sample = df_y.loc[df_y_sample_index]\n",
        "  return df_x_sample, df_y_sample"
      ],
      "execution_count": null,
      "outputs": []
    },
    {
      "cell_type": "markdown",
      "metadata": {
        "id": "cEQFWyNtROrD"
      },
      "source": [
        "### genrate_data_set(trainDataPath = \"/content/train.csv\", fillna=\"NA\", dropRareTH=0.005, cutSize=[0.2,0.1],addFT= True )\n",
        "\n",
        "#### args\n",
        "- trainDataPath: str, path to train.csv\n",
        "- fillna: str, the mode to fill NaN \"NA\",\"mode\",\"mice\"\n",
        "- dropRareTH: float, the threshold to replacee low frequency categorical to other    <br>(Only apply on [\"mchno\"\"scity\",\"mcc\"])\n",
        "- cutSize: array, a array of val size and test size.\n",
        "<br> e.g [0.1,0.2] means train:0.7 val:0.1 test:0.2\n",
        "<br> Notice: train and val are a balance data , while test is a inbalance data.\n",
        "-addFT: bool, add Feature or not\n",
        "-delFT: bool, delete Feature or not\n",
        "-kmeans: str, apply kmeans discretizer on: \"all\", \"disc\", \"none\"\n",
        "#### return\n",
        "&nbsp; &nbsp; x_train, x_val, x_test, y_train, y_val, y_test \n",
        "\n",
        "\n"
      ]
    },
    {
      "cell_type": "code",
      "metadata": {
        "id": "tilDRVRMYI2V"
      },
      "source": [
        "def genrate_data_set(trainDataPath = \"/content/train.csv\", fillna=\"NA\", dropRareTH=0, cutSize=[0.2,0.1],addFT=False, delFT=False, kmeans=\"none\" ):\n",
        "  x_all,y_all = loadData(trainDataPath)\n",
        "  x_all = addFeature(x_all,addFT)\n",
        "  x_all = delFeature(x_all,delFT)\n",
        "  col_names_cont, col_names_disc, col_has_na = analysis(x_all,dropRareTH,addFT,delFT)\n",
        "  x_train, x_test, y_train, y_test =  spiltDataSet(x_all,y_all,cutSize[0]+cutSize[1])\n",
        "  x_train, x_test = fillMissingValue(x_train, x_test, fillna ,col_names_disc)\n",
        "  x_train, x_test = standerlizeAndOneHotEncode(x_train,x_test,col_names_cont,col_names_disc,kmeans)\n",
        "  x_val, x_test, y_val, y_test =  spiltDataSet(x_test,y_test,cutSize[1])\n",
        "  y_train, y_val,y_test = y_train.to_frame(), y_val.to_frame(), y_test.to_frame()\n",
        "  # x_train, y_train = downSampleing(x_train,y_train)\n",
        "  # x_val,y_val = downSampleing(x_val,y_val)\n",
        "  print(\"x_train.shape:\",x_train.shape ,\"x_val.shape:\",x_val.shape, \"x_test.shape:\",x_test.shape)\n",
        "  return  x_train, x_val, x_test, y_train, y_val, y_test "
      ],
      "execution_count": null,
      "outputs": []
    },
    {
      "cell_type": "markdown",
      "metadata": {
        "id": "X5iQNKkklfu3"
      },
      "source": [
        "# model"
      ]
    },
    {
      "cell_type": "code",
      "metadata": {
        "colab": {
          "base_uri": "https://localhost:8080/"
        },
        "id": "KUyHAsndmWZh",
        "outputId": "484eeb5b-28a1-4564-e5c6-f731c4b0d7d6"
      },
      "source": [
        "df_X_train, df_X_val, X_test, df_y_train, df_y_val, y_test  = genrate_data_set()"
      ],
      "execution_count": null,
      "outputs": [
        {
          "output_type": "stream",
          "text": [
            "(1521787, 22)\n",
            "6051\n",
            "acqic: dtype=int64, n_na=0\n",
            "       max=6884, min=0, mean=6008.0, std=1502.42, diversity=0.40%\n",
            "95214\n",
            "bacno: dtype=int64, n_na=0\n",
            "       max=163884, min=1, mean=82090.27, std=47362.49, diversity=6.26%\n",
            "129413\n",
            "cano: dtype=int64, n_na=0\n",
            "       max=213334, min=0, mean=108917.04, std=60903.63, diversity=8.50%\n",
            "72961\n",
            "conam: dtype=float64, n_na=0\n",
            "       max=7208.77, min=0.0, mean=654.72, std=402.81, diversity=4.79%\n",
            "7\n",
            "contp: uni=[5 4 6 2 3 0 1]\n",
            "72\n",
            "csmcu: uni=[62 61  0 13 60 26 29 71 53 37 73 54  4 44 31 32 20 10 52 45 49 40 17 56\n",
            " 75 38 30 68 50 23 66 18 35 74 24 51 21  7 41 47 22  6 67 39 42 11 12 15\n",
            " 59 46  3  5 57 27  2 28 16 48 14 64 25 70 72  1 63 34 43  9 55 69 36 19]\n",
            "2\n",
            "ecfg: uni=['N' 'Y']\n",
            "11\n",
            "etymd: uni=[ 5  4  2  8  0  9  1  6  3  7 10]\n",
            "3\n",
            "flbmk: uni=['N' 'Y' nan]\n",
            "3\n",
            "flg_3dsmk: uni=['N' 'Y' nan]\n",
            "9\n",
            "hcefg: uni=[5 1 2 0 7 8 3 6 9]\n",
            "2\n",
            "insfg: uni=['N' 'Y']\n",
            "9\n",
            "iterm: uni=[0 1 2 4 3 5 8 7 6]\n",
            "90\n",
            "locdt: uni=[ 1  2  3  4  5  6  7  8  9 10 11 12 13 14 15 16 17 18 19 20 21 22 23 24\n",
            " 25 26 27 28 29 30 31 32 33 34 35 36 37 38 39 40 41 42 43 44 45 46 47 48\n",
            " 49 50 51 52 53 54 55 56 57 58 59 60 61 62 63 64 65 66 67 68 69 70 71 72\n",
            " 73 74 75 76 77 78 79 80 81 82 83 84 85 86 87 88 89 90]\n",
            "84810\n",
            "loctm: dtype=float64, n_na=0\n",
            "       max=235959.0, min=0.0, mean=146315.21, std=52121.07, diversity=5.57%\n",
            "434\n",
            "mcc: dtype=int64, n_na=0\n",
            "       max=459, min=0, mean=297.81, std=77.97, diversity=0.03%\n",
            "89316\n",
            "mchno: dtype=int64, n_na=0\n",
            "       max=103307, min=0, mean=55890.22, std=30822.97, diversity=5.87%\n",
            "2\n",
            "ovrlt: uni=['N' 'Y']\n",
            "5698\n",
            "scity: dtype=int64, n_na=0\n",
            "       max=6671, min=0, mean=4755.13, std=1979.81, diversity=0.37%\n",
            "103\n",
            "stocn: uni=[102  38 104  20  46  52  55  27  75  36  93  73  42  17  94  77  32  98\n",
            "  10   6  92  81  44  68 106  26  16   5  83  61  85   2  78  25  50  56\n",
            "   1  18  62  41  48  89  28  95  72  71  40  14  45 107  34  13  80  49\n",
            "  76  90   0   9 101  74  37 105  87  84  69  60  70  31  88  30  47  54\n",
            "  67   7  96  35  15  65   4  22  19  39  63  57  99  51  79  86  11  53\n",
            "  43  91  59   8  64  97   3  82  12  29  24 100  33]\n",
            "5\n",
            "stscd: uni=[0 2 1 3 4]\n",
            "318 318\n",
            "x_train.shape: (1065250, 326) x_val.shape: (410883, 326) x_test.shape: (45654, 326)\n"
          ],
          "name": "stdout"
        }
      ]
    },
    {
      "cell_type": "code",
      "metadata": {
        "id": "PomfVVeJmpNs"
      },
      "source": [
        "from sklearn.metrics import roc_auc_score, confusion_matrix, precision_score, recall_score, f1_score\n",
        "from sklearn.metrics import accuracy_score, precision_score, recall_score, roc_auc_score , average_precision_score \n",
        "from sklearn.metrics import f1_score, confusion_matrix, precision_recall_curve, roc_curve ,auc , log_loss ,  classification_report \n",
        "import matplotlib.pyplot as plt"
      ],
      "execution_count": null,
      "outputs": []
    },
    {
      "cell_type": "code",
      "metadata": {
        "colab": {
          "base_uri": "https://localhost:8080/"
        },
        "id": "aTip_9QXlfV9",
        "outputId": "34dcfaff-69e2-412c-fd2d-1b6fec57b0bb"
      },
      "source": [
        "import lightgbm as lgb\n",
        "lgb_train = lgb.Dataset(df_X_train, df_y_train)\n",
        "lgb_eval = lgb.Dataset(df_X_val, df_y_val, reference=lgb_train)\n",
        "params={}\n",
        "params['learning_rate']=0.03\n",
        "params['boosting_type']='gbdt' #GradientBoostingDecisionTree\n",
        "params['objective']='binary' #Binary target feature\n",
        "params['metric']='binary_logloss' #metric for binary classification\n",
        "params['max_depth']= 15\n",
        "\n",
        "print('Starting training...')\n",
        "\n",
        "gbm = lgb.train(params,\n",
        "                lgb_train,\n",
        "                num_boost_round=300,\n",
        "                valid_sets=lgb_eval,\n",
        "                early_stopping_rounds=10)\n",
        "\n"
      ],
      "execution_count": null,
      "outputs": [
        {
          "output_type": "stream",
          "text": [
            "Starting training...\n",
            "[1]\tvalid_0's binary_logloss: 0.0496487\n",
            "Training until validation scores don't improve for 10 rounds.\n",
            "[2]\tvalid_0's binary_logloss: 0.0477068\n",
            "[3]\tvalid_0's binary_logloss: 0.0462109\n",
            "[4]\tvalid_0's binary_logloss: 0.0449681\n",
            "[5]\tvalid_0's binary_logloss: 0.0439478\n",
            "[6]\tvalid_0's binary_logloss: 0.0430231\n",
            "[7]\tvalid_0's binary_logloss: 0.0422294\n",
            "[8]\tvalid_0's binary_logloss: 0.0414756\n",
            "[9]\tvalid_0's binary_logloss: 0.0407974\n",
            "[10]\tvalid_0's binary_logloss: 0.0401744\n",
            "[11]\tvalid_0's binary_logloss: 0.0396053\n",
            "[12]\tvalid_0's binary_logloss: 0.0390802\n",
            "[13]\tvalid_0's binary_logloss: 0.0385988\n",
            "[14]\tvalid_0's binary_logloss: 0.0381457\n",
            "[15]\tvalid_0's binary_logloss: 0.0377203\n",
            "[16]\tvalid_0's binary_logloss: 0.0373272\n",
            "[17]\tvalid_0's binary_logloss: 0.0369496\n",
            "[18]\tvalid_0's binary_logloss: 0.036582\n",
            "[19]\tvalid_0's binary_logloss: 0.0362138\n",
            "[20]\tvalid_0's binary_logloss: 0.0358206\n",
            "[21]\tvalid_0's binary_logloss: 0.0354863\n",
            "[22]\tvalid_0's binary_logloss: 0.035178\n",
            "[23]\tvalid_0's binary_logloss: 0.0348904\n",
            "[24]\tvalid_0's binary_logloss: 0.0346124\n",
            "[25]\tvalid_0's binary_logloss: 0.0343454\n",
            "[26]\tvalid_0's binary_logloss: 0.0341012\n",
            "[27]\tvalid_0's binary_logloss: 0.0338751\n",
            "[28]\tvalid_0's binary_logloss: 0.0336499\n",
            "[29]\tvalid_0's binary_logloss: 0.033435\n",
            "[30]\tvalid_0's binary_logloss: 0.0332306\n",
            "[31]\tvalid_0's binary_logloss: 0.0330338\n",
            "[32]\tvalid_0's binary_logloss: 0.0328471\n",
            "[33]\tvalid_0's binary_logloss: 0.0326656\n",
            "[34]\tvalid_0's binary_logloss: 0.0324887\n",
            "[35]\tvalid_0's binary_logloss: 0.0323383\n",
            "[36]\tvalid_0's binary_logloss: 0.0321811\n",
            "[37]\tvalid_0's binary_logloss: 0.0320416\n",
            "[38]\tvalid_0's binary_logloss: 0.0318989\n",
            "[39]\tvalid_0's binary_logloss: 0.0317521\n",
            "[40]\tvalid_0's binary_logloss: 0.0316195\n",
            "[41]\tvalid_0's binary_logloss: 0.0314935\n",
            "[42]\tvalid_0's binary_logloss: 0.0313608\n",
            "[43]\tvalid_0's binary_logloss: 0.0312373\n",
            "[44]\tvalid_0's binary_logloss: 0.0311243\n",
            "[45]\tvalid_0's binary_logloss: 0.031018\n",
            "[46]\tvalid_0's binary_logloss: 0.0309165\n",
            "[47]\tvalid_0's binary_logloss: 0.030821\n",
            "[48]\tvalid_0's binary_logloss: 0.0307167\n",
            "[49]\tvalid_0's binary_logloss: 0.0305806\n",
            "[50]\tvalid_0's binary_logloss: 0.0304892\n",
            "[51]\tvalid_0's binary_logloss: 0.0304092\n",
            "[52]\tvalid_0's binary_logloss: 0.0303258\n",
            "[53]\tvalid_0's binary_logloss: 0.0302465\n",
            "[54]\tvalid_0's binary_logloss: 0.0301719\n",
            "[55]\tvalid_0's binary_logloss: 0.0300974\n",
            "[56]\tvalid_0's binary_logloss: 0.0300207\n",
            "[57]\tvalid_0's binary_logloss: 0.0299532\n",
            "[58]\tvalid_0's binary_logloss: 0.0298902\n",
            "[59]\tvalid_0's binary_logloss: 0.0298262\n",
            "[60]\tvalid_0's binary_logloss: 0.0297664\n",
            "[61]\tvalid_0's binary_logloss: 0.0297171\n",
            "[62]\tvalid_0's binary_logloss: 0.0296624\n",
            "[63]\tvalid_0's binary_logloss: 0.0296084\n",
            "[64]\tvalid_0's binary_logloss: 0.0295545\n",
            "[65]\tvalid_0's binary_logloss: 0.0295058\n",
            "[66]\tvalid_0's binary_logloss: 0.0294605\n",
            "[67]\tvalid_0's binary_logloss: 0.0294045\n",
            "[68]\tvalid_0's binary_logloss: 0.0293579\n",
            "[69]\tvalid_0's binary_logloss: 0.0293188\n",
            "[70]\tvalid_0's binary_logloss: 0.0292821\n",
            "[71]\tvalid_0's binary_logloss: 0.0292357\n",
            "[72]\tvalid_0's binary_logloss: 0.0291973\n",
            "[73]\tvalid_0's binary_logloss: 0.0291606\n",
            "[74]\tvalid_0's binary_logloss: 0.0291241\n",
            "[75]\tvalid_0's binary_logloss: 0.0290834\n",
            "[76]\tvalid_0's binary_logloss: 0.0290503\n",
            "[77]\tvalid_0's binary_logloss: 0.0290156\n",
            "[78]\tvalid_0's binary_logloss: 0.0289845\n",
            "[79]\tvalid_0's binary_logloss: 0.0289578\n",
            "[80]\tvalid_0's binary_logloss: 0.0289259\n",
            "[81]\tvalid_0's binary_logloss: 0.0288901\n",
            "[82]\tvalid_0's binary_logloss: 0.028859\n",
            "[83]\tvalid_0's binary_logloss: 0.0288261\n",
            "[84]\tvalid_0's binary_logloss: 0.0288046\n",
            "[85]\tvalid_0's binary_logloss: 0.0287746\n",
            "[86]\tvalid_0's binary_logloss: 0.0287467\n",
            "[87]\tvalid_0's binary_logloss: 0.0287209\n",
            "[88]\tvalid_0's binary_logloss: 0.0286947\n",
            "[89]\tvalid_0's binary_logloss: 0.0286648\n",
            "[90]\tvalid_0's binary_logloss: 0.0286404\n",
            "[91]\tvalid_0's binary_logloss: 0.0286462\n",
            "[92]\tvalid_0's binary_logloss: 0.0286242\n",
            "[93]\tvalid_0's binary_logloss: 0.028597\n",
            "[94]\tvalid_0's binary_logloss: 0.028578\n",
            "[95]\tvalid_0's binary_logloss: 0.0285598\n",
            "[96]\tvalid_0's binary_logloss: 0.0285425\n",
            "[97]\tvalid_0's binary_logloss: 0.0285274\n",
            "[98]\tvalid_0's binary_logloss: 0.0285098\n",
            "[99]\tvalid_0's binary_logloss: 0.0284933\n",
            "[100]\tvalid_0's binary_logloss: 0.0284824\n",
            "[101]\tvalid_0's binary_logloss: 0.0284663\n",
            "[102]\tvalid_0's binary_logloss: 0.0284521\n",
            "[103]\tvalid_0's binary_logloss: 0.0284325\n",
            "[104]\tvalid_0's binary_logloss: 0.0284222\n",
            "[105]\tvalid_0's binary_logloss: 0.0284051\n",
            "[106]\tvalid_0's binary_logloss: 0.0283965\n",
            "[107]\tvalid_0's binary_logloss: 0.0283843\n",
            "[108]\tvalid_0's binary_logloss: 0.0283726\n",
            "[109]\tvalid_0's binary_logloss: 0.0283611\n",
            "[110]\tvalid_0's binary_logloss: 0.0283497\n",
            "[111]\tvalid_0's binary_logloss: 0.0283417\n",
            "[112]\tvalid_0's binary_logloss: 0.0283209\n",
            "[113]\tvalid_0's binary_logloss: 0.0283144\n",
            "[114]\tvalid_0's binary_logloss: 0.0282934\n",
            "[115]\tvalid_0's binary_logloss: 0.0282829\n",
            "[116]\tvalid_0's binary_logloss: 0.0282711\n",
            "[117]\tvalid_0's binary_logloss: 0.0282638\n",
            "[118]\tvalid_0's binary_logloss: 0.0282561\n",
            "[119]\tvalid_0's binary_logloss: 0.0282404\n",
            "[120]\tvalid_0's binary_logloss: 0.0282351\n",
            "[121]\tvalid_0's binary_logloss: 0.0282245\n",
            "[122]\tvalid_0's binary_logloss: 0.0282188\n",
            "[123]\tvalid_0's binary_logloss: 0.0282114\n",
            "[124]\tvalid_0's binary_logloss: 0.0282017\n",
            "[125]\tvalid_0's binary_logloss: 0.0281974\n",
            "[126]\tvalid_0's binary_logloss: 0.0281881\n",
            "[127]\tvalid_0's binary_logloss: 0.028184\n",
            "[128]\tvalid_0's binary_logloss: 0.0281735\n",
            "[129]\tvalid_0's binary_logloss: 0.0281676\n",
            "[130]\tvalid_0's binary_logloss: 0.0281618\n",
            "[131]\tvalid_0's binary_logloss: 0.0281552\n",
            "[132]\tvalid_0's binary_logloss: 0.0281493\n",
            "[133]\tvalid_0's binary_logloss: 0.0281438\n",
            "[134]\tvalid_0's binary_logloss: 0.028141\n",
            "[135]\tvalid_0's binary_logloss: 0.0281387\n",
            "[136]\tvalid_0's binary_logloss: 0.0281357\n",
            "[137]\tvalid_0's binary_logloss: 0.0281275\n",
            "[138]\tvalid_0's binary_logloss: 0.0281198\n",
            "[139]\tvalid_0's binary_logloss: 0.0281055\n",
            "[140]\tvalid_0's binary_logloss: 0.0281023\n",
            "[141]\tvalid_0's binary_logloss: 0.0281004\n",
            "[142]\tvalid_0's binary_logloss: 0.0280884\n",
            "[143]\tvalid_0's binary_logloss: 0.0280834\n",
            "[144]\tvalid_0's binary_logloss: 0.0280764\n",
            "[145]\tvalid_0's binary_logloss: 0.0280735\n",
            "[146]\tvalid_0's binary_logloss: 0.0280721\n",
            "[147]\tvalid_0's binary_logloss: 0.0280654\n",
            "[148]\tvalid_0's binary_logloss: 0.0280553\n",
            "[149]\tvalid_0's binary_logloss: 0.0280463\n",
            "[150]\tvalid_0's binary_logloss: 0.0280352\n",
            "[151]\tvalid_0's binary_logloss: 0.0280337\n",
            "[152]\tvalid_0's binary_logloss: 0.0280868\n",
            "[153]\tvalid_0's binary_logloss: 0.028079\n",
            "[154]\tvalid_0's binary_logloss: 0.0280725\n",
            "[155]\tvalid_0's binary_logloss: 0.0280632\n",
            "[156]\tvalid_0's binary_logloss: 0.0280599\n",
            "[157]\tvalid_0's binary_logloss: 0.0280565\n",
            "[158]\tvalid_0's binary_logloss: 0.0280523\n",
            "[159]\tvalid_0's binary_logloss: 0.0280423\n",
            "[160]\tvalid_0's binary_logloss: 0.0280362\n",
            "[161]\tvalid_0's binary_logloss: 0.0280304\n",
            "[162]\tvalid_0's binary_logloss: 0.0280258\n",
            "[163]\tvalid_0's binary_logloss: 0.0280198\n",
            "[164]\tvalid_0's binary_logloss: 0.0280158\n",
            "[165]\tvalid_0's binary_logloss: 0.0280082\n",
            "[166]\tvalid_0's binary_logloss: 0.0280049\n",
            "[167]\tvalid_0's binary_logloss: 0.0279946\n",
            "[168]\tvalid_0's binary_logloss: 0.0279933\n",
            "[169]\tvalid_0's binary_logloss: 0.027984\n",
            "[170]\tvalid_0's binary_logloss: 0.0279768\n",
            "[171]\tvalid_0's binary_logloss: 0.0279728\n",
            "[172]\tvalid_0's binary_logloss: 0.0279684\n",
            "[173]\tvalid_0's binary_logloss: 0.0279639\n",
            "[174]\tvalid_0's binary_logloss: 0.027961\n",
            "[175]\tvalid_0's binary_logloss: 0.0279639\n",
            "[176]\tvalid_0's binary_logloss: 0.0279633\n",
            "[177]\tvalid_0's binary_logloss: 0.0279537\n",
            "[178]\tvalid_0's binary_logloss: 0.0279496\n",
            "[179]\tvalid_0's binary_logloss: 0.0279414\n",
            "[180]\tvalid_0's binary_logloss: 0.0279349\n",
            "[181]\tvalid_0's binary_logloss: 0.0279263\n",
            "[182]\tvalid_0's binary_logloss: 0.0279271\n",
            "[183]\tvalid_0's binary_logloss: 0.0279237\n",
            "[184]\tvalid_0's binary_logloss: 0.027922\n",
            "[185]\tvalid_0's binary_logloss: 0.027917\n",
            "[186]\tvalid_0's binary_logloss: 0.0279087\n",
            "[187]\tvalid_0's binary_logloss: 0.0279019\n",
            "[188]\tvalid_0's binary_logloss: 0.0278966\n",
            "[189]\tvalid_0's binary_logloss: 0.027888\n",
            "[190]\tvalid_0's binary_logloss: 0.0278876\n",
            "[191]\tvalid_0's binary_logloss: 0.027885\n",
            "[192]\tvalid_0's binary_logloss: 0.0278872\n",
            "[193]\tvalid_0's binary_logloss: 0.0278856\n",
            "[194]\tvalid_0's binary_logloss: 0.027883\n",
            "[195]\tvalid_0's binary_logloss: 0.0278808\n",
            "[196]\tvalid_0's binary_logloss: 0.0278704\n",
            "[197]\tvalid_0's binary_logloss: 0.0278675\n",
            "[198]\tvalid_0's binary_logloss: 0.0278621\n",
            "[199]\tvalid_0's binary_logloss: 0.0278622\n",
            "[200]\tvalid_0's binary_logloss: 0.0278651\n",
            "[201]\tvalid_0's binary_logloss: 0.0278651\n",
            "[202]\tvalid_0's binary_logloss: 0.0278576\n",
            "[203]\tvalid_0's binary_logloss: 0.0278554\n",
            "[204]\tvalid_0's binary_logloss: 0.0278518\n",
            "[205]\tvalid_0's binary_logloss: 0.027851\n",
            "[206]\tvalid_0's binary_logloss: 0.0278464\n",
            "[207]\tvalid_0's binary_logloss: 0.0278303\n",
            "[208]\tvalid_0's binary_logloss: 0.0278294\n",
            "[209]\tvalid_0's binary_logloss: 0.0278293\n",
            "[210]\tvalid_0's binary_logloss: 0.0278244\n",
            "[211]\tvalid_0's binary_logloss: 0.0278194\n",
            "[212]\tvalid_0's binary_logloss: 0.0278185\n",
            "[213]\tvalid_0's binary_logloss: 0.0278175\n",
            "[214]\tvalid_0's binary_logloss: 0.0278176\n",
            "[215]\tvalid_0's binary_logloss: 0.0278167\n",
            "[216]\tvalid_0's binary_logloss: 0.0278139\n",
            "[217]\tvalid_0's binary_logloss: 0.0278174\n",
            "[218]\tvalid_0's binary_logloss: 0.0278161\n",
            "[219]\tvalid_0's binary_logloss: 0.0278156\n",
            "[220]\tvalid_0's binary_logloss: 0.027813\n",
            "[221]\tvalid_0's binary_logloss: 0.0278097\n",
            "[222]\tvalid_0's binary_logloss: 0.0278087\n",
            "[223]\tvalid_0's binary_logloss: 0.0278073\n",
            "[224]\tvalid_0's binary_logloss: 0.0278072\n",
            "[225]\tvalid_0's binary_logloss: 0.0278025\n",
            "[226]\tvalid_0's binary_logloss: 0.0278011\n",
            "[227]\tvalid_0's binary_logloss: 0.027803\n",
            "[228]\tvalid_0's binary_logloss: 0.0278055\n",
            "[229]\tvalid_0's binary_logloss: 0.0278031\n",
            "[230]\tvalid_0's binary_logloss: 0.0277928\n",
            "[231]\tvalid_0's binary_logloss: 0.0277909\n",
            "[232]\tvalid_0's binary_logloss: 0.0277891\n",
            "[233]\tvalid_0's binary_logloss: 0.0277861\n",
            "[234]\tvalid_0's binary_logloss: 0.0277852\n",
            "[235]\tvalid_0's binary_logloss: 0.027784\n",
            "[236]\tvalid_0's binary_logloss: 0.0277828\n",
            "[237]\tvalid_0's binary_logloss: 0.0277749\n",
            "[238]\tvalid_0's binary_logloss: 0.0277787\n",
            "[239]\tvalid_0's binary_logloss: 0.0277746\n",
            "[240]\tvalid_0's binary_logloss: 0.0277721\n",
            "[241]\tvalid_0's binary_logloss: 0.02777\n",
            "[242]\tvalid_0's binary_logloss: 0.0277683\n",
            "[243]\tvalid_0's binary_logloss: 0.0277667\n",
            "[244]\tvalid_0's binary_logloss: 0.0277668\n",
            "[245]\tvalid_0's binary_logloss: 0.0277662\n",
            "[246]\tvalid_0's binary_logloss: 0.027762\n",
            "[247]\tvalid_0's binary_logloss: 0.0277607\n",
            "[248]\tvalid_0's binary_logloss: 0.0277622\n",
            "[249]\tvalid_0's binary_logloss: 0.0277618\n",
            "[250]\tvalid_0's binary_logloss: 0.0277635\n",
            "[251]\tvalid_0's binary_logloss: 0.0277634\n",
            "[252]\tvalid_0's binary_logloss: 0.0277644\n",
            "[253]\tvalid_0's binary_logloss: 0.0277605\n",
            "[254]\tvalid_0's binary_logloss: 0.0277562\n",
            "[255]\tvalid_0's binary_logloss: 0.0277547\n",
            "[256]\tvalid_0's binary_logloss: 0.0277525\n",
            "[257]\tvalid_0's binary_logloss: 0.0277516\n",
            "[258]\tvalid_0's binary_logloss: 0.027748\n",
            "[259]\tvalid_0's binary_logloss: 0.0277464\n",
            "[260]\tvalid_0's binary_logloss: 0.0277446\n",
            "[261]\tvalid_0's binary_logloss: 0.0277419\n",
            "[262]\tvalid_0's binary_logloss: 0.0277451\n",
            "[263]\tvalid_0's binary_logloss: 0.0277435\n",
            "[264]\tvalid_0's binary_logloss: 0.0277403\n",
            "[265]\tvalid_0's binary_logloss: 0.0277384\n",
            "[266]\tvalid_0's binary_logloss: 0.0277371\n",
            "[267]\tvalid_0's binary_logloss: 0.0277367\n",
            "[268]\tvalid_0's binary_logloss: 0.0277358\n",
            "[269]\tvalid_0's binary_logloss: 0.0277322\n",
            "[270]\tvalid_0's binary_logloss: 0.0277309\n",
            "[271]\tvalid_0's binary_logloss: 0.0277284\n",
            "[272]\tvalid_0's binary_logloss: 0.0277291\n",
            "[273]\tvalid_0's binary_logloss: 0.0277273\n",
            "[274]\tvalid_0's binary_logloss: 0.0277271\n",
            "[275]\tvalid_0's binary_logloss: 0.0277265\n",
            "[276]\tvalid_0's binary_logloss: 0.0277227\n",
            "[277]\tvalid_0's binary_logloss: 0.0277214\n",
            "[278]\tvalid_0's binary_logloss: 0.0277143\n",
            "[279]\tvalid_0's binary_logloss: 0.0277186\n",
            "[280]\tvalid_0's binary_logloss: 0.0277184\n",
            "[281]\tvalid_0's binary_logloss: 0.0277148\n",
            "[282]\tvalid_0's binary_logloss: 0.0277138\n",
            "[283]\tvalid_0's binary_logloss: 0.0277127\n",
            "[284]\tvalid_0's binary_logloss: 0.027713\n",
            "[285]\tvalid_0's binary_logloss: 0.0277133\n",
            "[286]\tvalid_0's binary_logloss: 0.027712\n",
            "[287]\tvalid_0's binary_logloss: 0.0277105\n",
            "[288]\tvalid_0's binary_logloss: 0.0277106\n",
            "[289]\tvalid_0's binary_logloss: 0.0277102\n",
            "[290]\tvalid_0's binary_logloss: 0.0277054\n",
            "[291]\tvalid_0's binary_logloss: 0.0277034\n",
            "[292]\tvalid_0's binary_logloss: 0.0277022\n",
            "[293]\tvalid_0's binary_logloss: 0.027699\n",
            "[294]\tvalid_0's binary_logloss: 0.0276984\n",
            "[295]\tvalid_0's binary_logloss: 0.0276996\n",
            "[296]\tvalid_0's binary_logloss: 0.0276987\n",
            "[297]\tvalid_0's binary_logloss: 0.0276969\n",
            "[298]\tvalid_0's binary_logloss: 0.0276929\n",
            "[299]\tvalid_0's binary_logloss: 0.0276924\n",
            "[300]\tvalid_0's binary_logloss: 0.0276911\n",
            "Did not meet early stopping. Best iteration is:\n",
            "[300]\tvalid_0's binary_logloss: 0.0276911\n"
          ],
          "name": "stdout"
        }
      ]
    },
    {
      "cell_type": "code",
      "metadata": {
        "colab": {
          "base_uri": "https://localhost:8080/"
        },
        "id": "nEDtASJcmGOT",
        "outputId": "5604a521-3928-4e50-aa0b-e35892e87fdf"
      },
      "source": [
        "y_pred = gbm.predict(X_test, num_iteration=gbm.best_iteration)\n",
        "y_test.mean()\n",
        "print('auc:', roc_auc_score(y_test, y_pred))\n",
        "\n",
        "cm = confusion_matrix(y_test, (y_pred > 0.5).astype(int), labels=[0,1])\n",
        "cm\n",
        "\n",
        "th = 0.2\n",
        "print(\"precision_score\", precision_score(y_test,(y_pred > th).astype(int)))\n",
        "print(\"recall_score\",    recall_score(y_test,(y_pred > th).astype(int)))\n",
        "print(\"f1_score\",        f1_score(y_test,(y_pred > th).astype(int)))"
      ],
      "execution_count": null,
      "outputs": [
        {
          "output_type": "stream",
          "text": [
            "auc: 0.9715458739376548\n",
            "precision_score 0.4166666666666667\n",
            "recall_score 0.5387523629489603\n",
            "f1_score 0.46990931574608413\n"
          ],
          "name": "stdout"
        }
      ]
    },
    {
      "cell_type": "code",
      "metadata": {
        "colab": {
          "base_uri": "https://localhost:8080/",
          "height": 643
        },
        "id": "HIuF28x8mhcZ",
        "outputId": "4f1fe9c7-9363-4c72-9dcb-045ac121649c"
      },
      "source": [
        "precision, recall, thresholds = \\\n",
        "    precision_recall_curve(y_test,y_pred)\n",
        "\n",
        "thI = np.argmax(np.divide(np.multiply(precision,recall),np.add(precision, recall))[:-3])\n",
        "print(thI)\n",
        "print(precision[thI])\n",
        "print(recall[thI])\n",
        "print((2*precision[thI] *recall[thI])/(precision[thI]+ recall[thI]))\n",
        "\n",
        "average_precision = \\\n",
        "    average_precision_score(y_test,y_pred)\n",
        "\n",
        "plt.step(recall, precision, color='k', alpha=0.7, where='post')\n",
        "plt.fill_between(recall, precision, step='post', alpha=0.3, color='k')\n",
        "plt.xlabel('Recall')\n",
        "plt.ylabel('Precision')\n",
        "plt.ylim([0.0, 1.05])\n",
        "plt.xlim([0.0, 1.0])\n",
        "\n",
        "plt.title('Precision-Recall curve: Average Precision = {0:0.2f}'.format(\n",
        "          average_precision))\n",
        "\n",
        "fpr, tpr, thresholds = \\\n",
        "    roc_curve(y_test,y_pred)\n",
        "areaUnderROC = auc(fpr, tpr)\n",
        "\n",
        "plt.figure()\n",
        "plt.plot(fpr, tpr, color='r', lw=2, label='ROC curve')\n",
        "plt.plot([0, 1], [0, 1], color='k', lw=2, linestyle='--')\n",
        "plt.xlim([0.0, 1.0])\n",
        "plt.ylim([0.0, 1.05])\n",
        "plt.xlabel('False Positive Rate')\n",
        "plt.ylabel('True Positive Rate')\n",
        "plt.title('Receiver operating characteristic: \\\n",
        "Area under the curve = {0:0.2f}'.format(areaUnderROC))\n",
        "plt.legend(loc=\"lower right\")\n",
        "plt.show()"
      ],
      "execution_count": null,
      "outputs": [
        {
          "output_type": "stream",
          "text": [
            "18959\n",
            "0.5154440154440154\n",
            "0.504725897920605\n",
            "0.5100286532951289\n"
          ],
          "name": "stdout"
        },
        {
          "output_type": "display_data",
          "data": {
            "image/png": "[encoded data removed]",
            "text/plain": [
              "<Figure size 432x288 with 1 Axes>"
            ]
          },
          "metadata": {
            "tags": [],
            "needs_background": "light"
          }
        },
        {
          "output_type": "display_data",
          "data": {
            "image/png": "[encoded data removed]",
            "text/plain": [
              "<Figure size 432x288 with 1 Axes>"
            ]
          },
          "metadata": {
            "tags": [],
            "needs_background": "light"
          }
        }
      ]
    },
    {
      "cell_type": "code",
      "metadata": {
        "id": "eyH4XU0vm2yL"
      },
      "source": [
        "fnscore =  [ (fname,socre) for fname,socre in zip(gbm.feature_name(),gbm.feature_importance())]\n",
        "top_feature = sorted(fnscore, key=lambda tup: tup[1], reverse=True)[:25]"
      ],
      "execution_count": null,
      "outputs": []
    },
    {
      "cell_type": "code",
      "metadata": {
        "id": "rzrSgz0jnLfK"
      },
      "source": [
        "# #if error: cannot import name '_png' from 'matplotlib', run following code\n",
        "# !sudo python -m pip uninstall matplotlib\n",
        "# !pip install matplotlib==3.1.3"
      ],
      "execution_count": null,
      "outputs": []
    }
  ]
}